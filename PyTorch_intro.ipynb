{
  "nbformat": 4,
  "nbformat_minor": 0,
  "metadata": {
    "colab": {
      "provenance": []
    },
    "kernelspec": {
      "name": "python3",
      "display_name": "Python 3"
    },
    "language_info": {
      "name": "python"
    }
  },
  "cells": [
    {
      "cell_type": "code",
      "execution_count": 1,
      "metadata": {
        "id": "Yx5L6rhy2BoO"
      },
      "outputs": [],
      "source": [
        "import torch"
      ]
    },
    {
      "cell_type": "code",
      "source": [
        "tensor = torch.Tensor(\n",
        "    [\n",
        "        [[1, 2], [3, 4]],\n",
        "        [[5, 6], [7, 8]],\n",
        "        [[9, 10], [11, 12]]\n",
        "    ]\n",
        ")"
      ],
      "metadata": {
        "id": "dFT2RduF3HdM"
      },
      "execution_count": 2,
      "outputs": []
    },
    {
      "cell_type": "code",
      "source": [
        "tensor"
      ],
      "metadata": {
        "colab": {
          "base_uri": "https://localhost:8080/"
        },
        "id": "d0jt01Vb304I",
        "outputId": "790320a0-dda1-4a37-c6d7-af582c05a6e4"
      },
      "execution_count": 3,
      "outputs": [
        {
          "output_type": "execute_result",
          "data": {
            "text/plain": [
              "tensor([[[ 1.,  2.],\n",
              "         [ 3.,  4.]],\n",
              "\n",
              "        [[ 5.,  6.],\n",
              "         [ 7.,  8.]],\n",
              "\n",
              "        [[ 9., 10.],\n",
              "         [11., 12.]]])"
            ]
          },
          "metadata": {},
          "execution_count": 3
        }
      ]
    },
    {
      "cell_type": "code",
      "source": [
        "tensor.shape"
      ],
      "metadata": {
        "colab": {
          "base_uri": "https://localhost:8080/"
        },
        "id": "siJsCHVI33tL",
        "outputId": "c94d2763-1ccd-4fea-8a36-067b5d541c8e"
      },
      "execution_count": 6,
      "outputs": [
        {
          "output_type": "execute_result",
          "data": {
            "text/plain": [
              "torch.Size([3, 2, 2])"
            ]
          },
          "metadata": {},
          "execution_count": 6
        }
      ]
    },
    {
      "cell_type": "code",
      "source": [
        "tensor.device"
      ],
      "metadata": {
        "colab": {
          "base_uri": "https://localhost:8080/"
        },
        "id": "vkl7gSlR35TE",
        "outputId": "f80a9d0c-adb6-4005-fdac-4b9de2d4cc6c"
      },
      "execution_count": 7,
      "outputs": [
        {
          "output_type": "execute_result",
          "data": {
            "text/plain": [
              "device(type='cpu')"
            ]
          },
          "metadata": {},
          "execution_count": 7
        }
      ]
    },
    {
      "cell_type": "code",
      "source": [
        "tensor.shape[0]"
      ],
      "metadata": {
        "colab": {
          "base_uri": "https://localhost:8080/"
        },
        "id": "v1IhAY2f4INL",
        "outputId": "346cddc9-03db-467b-e734-77c20e5bdd45"
      },
      "execution_count": 8,
      "outputs": [
        {
          "output_type": "execute_result",
          "data": {
            "text/plain": [
              "3"
            ]
          },
          "metadata": {},
          "execution_count": 8
        }
      ]
    },
    {
      "cell_type": "code",
      "source": [
        "tensor.size(1)"
      ],
      "metadata": {
        "colab": {
          "base_uri": "https://localhost:8080/"
        },
        "id": "4viwm6F64Rd0",
        "outputId": "c1142cec-2761-4f6c-cdb8-20d02ef876e9"
      },
      "execution_count": 9,
      "outputs": [
        {
          "output_type": "execute_result",
          "data": {
            "text/plain": [
              "2"
            ]
          },
          "metadata": {},
          "execution_count": 9
        }
      ]
    },
    {
      "cell_type": "code",
      "source": [
        "tensor.size(2)"
      ],
      "metadata": {
        "colab": {
          "base_uri": "https://localhost:8080/"
        },
        "id": "kMi_YsSR4TLm",
        "outputId": "6e7d3d4a-aab4-4f4a-ad99-4db52736fdf4"
      },
      "execution_count": 11,
      "outputs": [
        {
          "output_type": "execute_result",
          "data": {
            "text/plain": [
              "2"
            ]
          },
          "metadata": {},
          "execution_count": 11
        }
      ]
    },
    {
      "cell_type": "code",
      "source": [
        "print(\"Rank =\", len(tensor.shape))\n",
        "print(\"Number of elements =\", tensor.numel())"
      ],
      "metadata": {
        "colab": {
          "base_uri": "https://localhost:8080/"
        },
        "id": "5bscRX_Y4Uw_",
        "outputId": "7cb45477-3c02-495d-ec57-8c9c0f94031a"
      },
      "execution_count": 13,
      "outputs": [
        {
          "output_type": "stream",
          "name": "stdout",
          "text": [
            "Rank = 3\n",
            "Number of elements = 12\n"
          ]
        }
      ]
    },
    {
      "cell_type": "markdown",
      "source": [
        "Accessing tensor"
      ],
      "metadata": {
        "id": "h0BeGnGA4xUa"
      }
    },
    {
      "cell_type": "code",
      "source": [
        "tensor[1]"
      ],
      "metadata": {
        "colab": {
          "base_uri": "https://localhost:8080/"
        },
        "id": "PSN-REAl4dBj",
        "outputId": "4dd19c09-f664-4bb4-ed43-b792cf1f6072"
      },
      "execution_count": 17,
      "outputs": [
        {
          "output_type": "execute_result",
          "data": {
            "text/plain": [
              "tensor([[5., 6.],\n",
              "        [7., 8.]])"
            ]
          },
          "metadata": {},
          "execution_count": 17
        }
      ]
    },
    {
      "cell_type": "markdown",
      "source": [
        "Accessing specific element"
      ],
      "metadata": {
        "id": "pKoGwl_n43ts"
      }
    },
    {
      "cell_type": "code",
      "source": [
        "tensor[2, 0, 1]"
      ],
      "metadata": {
        "colab": {
          "base_uri": "https://localhost:8080/"
        },
        "id": "Mfh5Z48w43Fz",
        "outputId": "084fda36-be9d-47fc-ee1a-9e04ec61bc92"
      },
      "execution_count": 18,
      "outputs": [
        {
          "output_type": "execute_result",
          "data": {
            "text/plain": [
              "tensor(10.)"
            ]
          },
          "metadata": {},
          "execution_count": 18
        }
      ]
    },
    {
      "cell_type": "code",
      "source": [
        "tensor[2, 0, 1].item() # scalar value"
      ],
      "metadata": {
        "colab": {
          "base_uri": "https://localhost:8080/"
        },
        "id": "b-VfNzF_49Z4",
        "outputId": "35ab5595-18c4-4413-c738-af0bfa66ae3e"
      },
      "execution_count": 20,
      "outputs": [
        {
          "output_type": "execute_result",
          "data": {
            "text/plain": [
              "10.0"
            ]
          },
          "metadata": {},
          "execution_count": 20
        }
      ]
    },
    {
      "cell_type": "markdown",
      "source": [
        "To get 0th element of each dimension of the tensor"
      ],
      "metadata": {
        "id": "FgZURxcx5UMK"
      }
    },
    {
      "cell_type": "code",
      "source": [
        "tensor[:, 0, 0]"
      ],
      "metadata": {
        "colab": {
          "base_uri": "https://localhost:8080/"
        },
        "id": "pjCUuNhH5C-e",
        "outputId": "4efa78af-9b4f-48d3-f29a-c50b25cbb38b"
      },
      "execution_count": 23,
      "outputs": [
        {
          "output_type": "execute_result",
          "data": {
            "text/plain": [
              "tensor([1., 5., 9.])"
            ]
          },
          "metadata": {},
          "execution_count": 23
        }
      ]
    },
    {
      "cell_type": "markdown",
      "source": [
        "Initializing Tensors"
      ],
      "metadata": {
        "id": "tHvw4q-N5mwh"
      }
    },
    {
      "cell_type": "code",
      "source": [
        "# same dimensions as some other tensor\n",
        "torch.ones_like(tensor)"
      ],
      "metadata": {
        "colab": {
          "base_uri": "https://localhost:8080/"
        },
        "id": "Ko86q8iu5bci",
        "outputId": "6ccab6b6-fb0a-49f2-daca-287d5f4a4db9"
      },
      "execution_count": 24,
      "outputs": [
        {
          "output_type": "execute_result",
          "data": {
            "text/plain": [
              "tensor([[[1., 1.],\n",
              "         [1., 1.]],\n",
              "\n",
              "        [[1., 1.],\n",
              "         [1., 1.]],\n",
              "\n",
              "        [[1., 1.],\n",
              "         [1., 1.]]])"
            ]
          },
          "metadata": {},
          "execution_count": 24
        }
      ]
    },
    {
      "cell_type": "code",
      "source": [
        "torch.zeros_like(tensor)"
      ],
      "metadata": {
        "colab": {
          "base_uri": "https://localhost:8080/"
        },
        "id": "5JWuYywn5ttw",
        "outputId": "c7486e66-933b-4141-bf24-255d9f78d016"
      },
      "execution_count": 25,
      "outputs": [
        {
          "output_type": "execute_result",
          "data": {
            "text/plain": [
              "tensor([[[0., 0.],\n",
              "         [0., 0.]],\n",
              "\n",
              "        [[0., 0.],\n",
              "         [0., 0.]],\n",
              "\n",
              "        [[0., 0.],\n",
              "         [0., 0.]]])"
            ]
          },
          "metadata": {},
          "execution_count": 25
        }
      ]
    },
    {
      "cell_type": "markdown",
      "source": [
        "To generate tensor using normal distribution"
      ],
      "metadata": {
        "id": "3ugp05Mm6Fyo"
      }
    },
    {
      "cell_type": "code",
      "source": [
        "torch.randn_like(tensor)"
      ],
      "metadata": {
        "colab": {
          "base_uri": "https://localhost:8080/"
        },
        "id": "s2XRrbAT5y9i",
        "outputId": "8fad7c65-c9c3-4183-cde3-f977cdbe53db"
      },
      "execution_count": 27,
      "outputs": [
        {
          "output_type": "execute_result",
          "data": {
            "text/plain": [
              "tensor([[[ 1.1177, -0.4304],\n",
              "         [ 0.0344, -1.1166]],\n",
              "\n",
              "        [[-0.0971, -1.0725],\n",
              "         [-0.7288,  1.1983]],\n",
              "\n",
              "        [[ 1.3596,  1.4674],\n",
              "         [ 0.5998,  0.0603]]])"
            ]
          },
          "metadata": {},
          "execution_count": 27
        }
      ]
    },
    {
      "cell_type": "code",
      "source": [
        "torch.randn(2, 2, device='cpu') # Alternatively, for a GPU tensor, you'd use device='cuda'"
      ],
      "metadata": {
        "colab": {
          "base_uri": "https://localhost:8080/"
        },
        "id": "2SKPbkKh6jJd",
        "outputId": "5ec774e5-d623-4567-d45f-0d955e360603"
      },
      "execution_count": 28,
      "outputs": [
        {
          "output_type": "execute_result",
          "data": {
            "text/plain": [
              "tensor([[-1.3831,  0.9659],\n",
              "        [-0.3856, -0.6807]])"
            ]
          },
          "metadata": {},
          "execution_count": 28
        }
      ]
    },
    {
      "cell_type": "code",
      "source": [
        "tensor - 2"
      ],
      "metadata": {
        "colab": {
          "base_uri": "https://localhost:8080/"
        },
        "id": "ElhwaHG464Xp",
        "outputId": "a7f4c486-2b89-4223-bb0d-8fe5c9e11783"
      },
      "execution_count": 29,
      "outputs": [
        {
          "output_type": "execute_result",
          "data": {
            "text/plain": [
              "tensor([[[-1.,  0.],\n",
              "         [ 1.,  2.]],\n",
              "\n",
              "        [[ 3.,  4.],\n",
              "         [ 5.,  6.]],\n",
              "\n",
              "        [[ 7.,  8.],\n",
              "         [ 9., 10.]]])"
            ]
          },
          "metadata": {},
          "execution_count": 29
        }
      ]
    },
    {
      "cell_type": "code",
      "source": [
        "tensor"
      ],
      "metadata": {
        "colab": {
          "base_uri": "https://localhost:8080/"
        },
        "id": "ERuEIYFt7HRs",
        "outputId": "d3fdff96-2532-4e38-e0b2-a3797a2104b2"
      },
      "execution_count": 30,
      "outputs": [
        {
          "output_type": "execute_result",
          "data": {
            "text/plain": [
              "tensor([[[ 1.,  2.],\n",
              "         [ 3.,  4.]],\n",
              "\n",
              "        [[ 5.,  6.],\n",
              "         [ 7.,  8.]],\n",
              "\n",
              "        [[ 9., 10.],\n",
              "         [11., 12.]]])"
            ]
          },
          "metadata": {},
          "execution_count": 30
        }
      ]
    },
    {
      "cell_type": "code",
      "source": [
        "(tensor - 2) * 2"
      ],
      "metadata": {
        "colab": {
          "base_uri": "https://localhost:8080/"
        },
        "id": "SVhVp3gU7IzP",
        "outputId": "f5d1edc7-7a2c-4c3c-9a60-f8864a54febd"
      },
      "execution_count": 31,
      "outputs": [
        {
          "output_type": "execute_result",
          "data": {
            "text/plain": [
              "tensor([[[-2.,  0.],\n",
              "         [ 2.,  4.]],\n",
              "\n",
              "        [[ 6.,  8.],\n",
              "         [10., 12.]],\n",
              "\n",
              "        [[14., 16.],\n",
              "         [18., 20.]]])"
            ]
          },
          "metadata": {},
          "execution_count": 31
        }
      ]
    },
    {
      "cell_type": "code",
      "source": [
        "tensor.mean()"
      ],
      "metadata": {
        "colab": {
          "base_uri": "https://localhost:8080/"
        },
        "id": "2q2324Kf7M1T",
        "outputId": "7c42f473-ea87-4045-e594-c9958659edcd"
      },
      "execution_count": 32,
      "outputs": [
        {
          "output_type": "execute_result",
          "data": {
            "text/plain": [
              "tensor(6.5000)"
            ]
          },
          "metadata": {},
          "execution_count": 32
        }
      ]
    },
    {
      "cell_type": "code",
      "source": [
        "tensor.std()"
      ],
      "metadata": {
        "colab": {
          "base_uri": "https://localhost:8080/"
        },
        "id": "Ry3ucpKH7Syi",
        "outputId": "0b9be427-5d45-44a2-fdcb-88b5b5047e10"
      },
      "execution_count": 33,
      "outputs": [
        {
          "output_type": "execute_result",
          "data": {
            "text/plain": [
              "tensor(3.6056)"
            ]
          },
          "metadata": {},
          "execution_count": 33
        }
      ]
    },
    {
      "cell_type": "code",
      "source": [
        "tensor[0].mean()"
      ],
      "metadata": {
        "colab": {
          "base_uri": "https://localhost:8080/"
        },
        "id": "E6JPZ1eg7UGh",
        "outputId": "a446a2a5-2a98-40bd-ba1f-a6aae2979a91"
      },
      "execution_count": 34,
      "outputs": [
        {
          "output_type": "execute_result",
          "data": {
            "text/plain": [
              "tensor(2.5000)"
            ]
          },
          "metadata": {},
          "execution_count": 34
        }
      ]
    },
    {
      "cell_type": "code",
      "source": [
        "import torch.nn as nn"
      ],
      "metadata": {
        "id": "Uz9YymYS8dSf"
      },
      "execution_count": 35,
      "outputs": []
    },
    {
      "cell_type": "code",
      "source": [
        "linear = nn.Linear(10, 2)\n",
        "example_input = torch.randn(3, 10)\n",
        "example_output = linear(example_input)\n",
        "example_output"
      ],
      "metadata": {
        "colab": {
          "base_uri": "https://localhost:8080/"
        },
        "id": "P3qri7dc8kxU",
        "outputId": "aa804c1a-353c-4cfd-af5f-8b2b3f02393b"
      },
      "execution_count": 36,
      "outputs": [
        {
          "output_type": "execute_result",
          "data": {
            "text/plain": [
              "tensor([[-0.5692, -0.5725],\n",
              "        [ 0.3295, -0.2391],\n",
              "        [-0.6679,  0.6968]], grad_fn=<AddmmBackward0>)"
            ]
          },
          "metadata": {},
          "execution_count": 36
        }
      ]
    },
    {
      "cell_type": "code",
      "source": [
        "relu = nn.ReLU()\n",
        "relu_output = relu(example_output)\n",
        "relu_output"
      ],
      "metadata": {
        "colab": {
          "base_uri": "https://localhost:8080/"
        },
        "id": "fKFpOQPq9xUn",
        "outputId": "2025ebfe-34d2-48f4-d409-c4bde1dd480a"
      },
      "execution_count": 37,
      "outputs": [
        {
          "output_type": "execute_result",
          "data": {
            "text/plain": [
              "tensor([[0.0000, 0.0000],\n",
              "        [0.3295, 0.0000],\n",
              "        [0.0000, 0.6968]], grad_fn=<ReluBackward0>)"
            ]
          },
          "metadata": {},
          "execution_count": 37
        }
      ]
    },
    {
      "cell_type": "markdown",
      "source": [
        "This is for situations where you expect a set of inputs, where each of them is a flat list of numbers. In other words, each input is a vector, not a matrix or higher-dimensional tensor"
      ],
      "metadata": {
        "id": "cFNCEmBw-SAc"
      }
    },
    {
      "cell_type": "code",
      "source": [
        "batchnorm = nn.BatchNorm1d(2)\n",
        "batchnorm_output = batchnorm(relu_output)\n",
        "batchnorm_output"
      ],
      "metadata": {
        "colab": {
          "base_uri": "https://localhost:8080/"
        },
        "id": "zY_B3-Q_-EzB",
        "outputId": "1b9c19e8-0b99-4d00-e768-4607a288a546"
      },
      "execution_count": 38,
      "outputs": [
        {
          "output_type": "execute_result",
          "data": {
            "text/plain": [
              "tensor([[-0.7070, -0.7071],\n",
              "        [ 1.4139, -0.7071],\n",
              "        [-0.7070,  1.4141]], grad_fn=<NativeBatchNormBackward0>)"
            ]
          },
          "metadata": {},
          "execution_count": 38
        }
      ]
    },
    {
      "cell_type": "code",
      "source": [
        "mlp_layer = nn.Sequential(\n",
        "    nn.Linear(5, 2),\n",
        "    nn.BatchNorm1d(2),\n",
        "    nn.ReLU()\n",
        ")\n",
        "\n",
        "test_example = torch.randn(5,5) + 1\n",
        "print(\"input: \")\n",
        "print(test_example)\n",
        "print(\"output: \")\n",
        "print(mlp_layer(test_example))"
      ],
      "metadata": {
        "colab": {
          "base_uri": "https://localhost:8080/"
        },
        "id": "pp3QXP1v-xJH",
        "outputId": "e69e5b81-3293-45f2-8968-306202d90739"
      },
      "execution_count": 39,
      "outputs": [
        {
          "output_type": "stream",
          "name": "stdout",
          "text": [
            "input: \n",
            "tensor([[-0.0996,  0.0597,  0.8005,  0.5929,  1.7384],\n",
            "        [-0.2759,  2.1376,  1.5072,  0.8220, -1.3406],\n",
            "        [-0.7505,  1.1139, -0.0519, -0.7215,  0.7238],\n",
            "        [ 1.6086,  2.3240,  0.2864,  1.0727,  0.5180],\n",
            "        [ 1.6093, -0.7315,  1.6975, -0.2850,  0.2629]])\n",
            "output: \n",
            "tensor([[1.5228, 0.0000],\n",
            "        [0.0000, 1.7713],\n",
            "        [0.6430, 0.0000],\n",
            "        [0.0000, 0.0000],\n",
            "        [0.0000, 0.3127]], grad_fn=<ReluBackward0>)\n"
          ]
        }
      ]
    },
    {
      "cell_type": "code",
      "source": [
        "import torch.optim as optim\n",
        "adam_opt = optim.Adam(mlp_layer.parameters(), lr=1e-1)"
      ],
      "metadata": {
        "id": "RlesR7F0-6cX"
      },
      "execution_count": 40,
      "outputs": []
    },
    {
      "cell_type": "markdown",
      "source": [
        "As it is from notebook\n",
        "Training Loop\n",
        "A (basic) training step in PyTorch consists of four basic parts:\n",
        "\n",
        "Set all of the gradients to zero using opt.zero_grad() <br>\n",
        "Calculate the loss, loss <br>\n",
        "Calculate the gradients with respect to the loss using loss.backward() <br>\n",
        "Update the parameters being optimized using opt.step() <br>\n",
        "That might look like the following code (and you'll notice that if you run it several times, the loss goes down):"
      ],
      "metadata": {
        "id": "Ie1Pim3b_tlR"
      }
    },
    {
      "cell_type": "code",
      "source": [
        "train_example = torch.randn(100,5) + 1\n",
        "adam_opt.zero_grad()\n",
        "\n",
        "# We'll use a simple loss function of mean distance from 1\n",
        "# torch.abs takes the absolute value of a tensor\n",
        "cur_loss = torch.abs(1 - mlp_layer(train_example)).mean()\n",
        "\n",
        "cur_loss.backward()\n",
        "adam_opt.step()\n",
        "print(cur_loss)"
      ],
      "metadata": {
        "colab": {
          "base_uri": "https://localhost:8080/"
        },
        "id": "pR0a1rQZ_PSi",
        "outputId": "c1339f0d-f161-4711-8375-db9b14d12009"
      },
      "execution_count": 41,
      "outputs": [
        {
          "output_type": "stream",
          "name": "stdout",
          "text": [
            "tensor(0.7745, grad_fn=<MeanBackward0>)\n"
          ]
        }
      ]
    },
    {
      "cell_type": "markdown",
      "source": [
        "requires_grad_()\n",
        "You can also tell PyTorch that it needs to calculate the gradient with respect to a tensor that you created by saying example_tensor.requires_grad_(), which will change it in-place. This means that even if PyTorch wouldn't normally store a grad for that particular tensor, it will for that specified tensor.\n",
        "\n",
        "with torch.no_grad():\n",
        "PyTorch will usually calculate the gradients as it proceeds through a set of operations on tensors. This can often take up unnecessary computations and memory, especially if you're performing an evaluation. However, you can wrap a piece of code with with torch.no_grad() to prevent the gradients from being calculated in a piece of code.\n",
        "\n",
        "detach():\n",
        "Sometimes, you want to calculate and use a tensor's value without calculating its gradients. For example, if you have two models, A and B, and you want to directly optimize the parameters of A with respect to the output of B, without calculating the gradients through B, then you could feed the detached output of B to A. There are many reasons you might want to do this, including efficiency or cyclical dependencies (i.e. A depends on B depends on A)."
      ],
      "metadata": {
        "id": "5c_yov0UAVOr"
      }
    },
    {
      "cell_type": "markdown",
      "source": [
        "New nn Classes\n",
        "You can also create new classes which extend the nn module. For these classes, all class attributes, as in self.layer or self.param will automatically treated as parameters if they are themselves nn objects or if they are tensors wrapped in nn.Parameter which are initialized with the class.\n",
        "\n",
        "The __init__ function defines what will happen when the object is created. The first line of the init function of a class, for example, WellNamedClass, needs to be super(WellNamedClass, self).__init__().\n",
        "\n",
        "The forward function defines what runs if you create that object model and pass it a tensor x, as in model(x). If you choose the function signature, (self, x), then each call of the forward function, gets two pieces of information: self, which is a reference to the object with which you can access all of its parameters, and x, which is the current tensor for which you'd like to return y"
      ],
      "metadata": {
        "id": "qE8lmVgaCR1b"
      }
    },
    {
      "cell_type": "code",
      "source": [
        "class ExampleModule(nn.Module):\n",
        "    def __init__(self, input_dims, output_dims):\n",
        "        super(ExampleModule, self).__init__()\n",
        "        self.linear = nn.Linear(input_dims, output_dims)\n",
        "        self.exponent = nn.Parameter(torch.tensor(1.))\n",
        "\n",
        "    def forward(self, x):\n",
        "        x = self.linear(x)\n",
        "\n",
        "        # This is the notation for element-wise exponentiation,\n",
        "        # which matches python in general\n",
        "        x = x ** self.exponent\n",
        "\n",
        "        return x"
      ],
      "metadata": {
        "id": "tHwarwZWAB1q"
      },
      "execution_count": 44,
      "outputs": []
    },
    {
      "cell_type": "code",
      "source": [
        "example_model = ExampleModule(10, 2)\n",
        "list(example_model.parameters())"
      ],
      "metadata": {
        "colab": {
          "base_uri": "https://localhost:8080/"
        },
        "id": "6VgSAfB1CX3b",
        "outputId": "7ee4fe36-e87b-4d88-cea6-11d86675e00a"
      },
      "execution_count": 45,
      "outputs": [
        {
          "output_type": "execute_result",
          "data": {
            "text/plain": [
              "[Parameter containing:\n",
              " tensor(1., requires_grad=True),\n",
              " Parameter containing:\n",
              " tensor([[-0.2652, -0.1425,  0.2142,  0.2702,  0.0689, -0.1227,  0.1936, -0.2916,\n",
              "          -0.0473, -0.2110],\n",
              "         [-0.1210,  0.0142,  0.1774,  0.3070, -0.2687, -0.2643, -0.2171, -0.2802,\n",
              "          -0.2767, -0.0407]], requires_grad=True),\n",
              " Parameter containing:\n",
              " tensor([ 0.0997, -0.1360], requires_grad=True)]"
            ]
          },
          "metadata": {},
          "execution_count": 45
        }
      ]
    },
    {
      "cell_type": "code",
      "source": [
        "list(example_model.named_parameters())"
      ],
      "metadata": {
        "colab": {
          "base_uri": "https://localhost:8080/"
        },
        "id": "eS5V6WI1CaXx",
        "outputId": "e26e6c30-2f3a-4da6-c17e-709a011e7861"
      },
      "execution_count": 46,
      "outputs": [
        {
          "output_type": "execute_result",
          "data": {
            "text/plain": [
              "[('exponent',\n",
              "  Parameter containing:\n",
              "  tensor(1., requires_grad=True)),\n",
              " ('linear.weight',\n",
              "  Parameter containing:\n",
              "  tensor([[-0.2652, -0.1425,  0.2142,  0.2702,  0.0689, -0.1227,  0.1936, -0.2916,\n",
              "           -0.0473, -0.2110],\n",
              "          [-0.1210,  0.0142,  0.1774,  0.3070, -0.2687, -0.2643, -0.2171, -0.2802,\n",
              "           -0.2767, -0.0407]], requires_grad=True)),\n",
              " ('linear.bias',\n",
              "  Parameter containing:\n",
              "  tensor([ 0.0997, -0.1360], requires_grad=True))]"
            ]
          },
          "metadata": {},
          "execution_count": 46
        }
      ]
    },
    {
      "cell_type": "code",
      "source": [
        "input = torch.randn(2, 10)\n",
        "example_model(input)"
      ],
      "metadata": {
        "colab": {
          "base_uri": "https://localhost:8080/"
        },
        "id": "76NcZo8PCgT9",
        "outputId": "b1added4-cd05-44d6-b539-72df5ae2a362"
      },
      "execution_count": 47,
      "outputs": [
        {
          "output_type": "execute_result",
          "data": {
            "text/plain": [
              "tensor([[-0.1386, -1.2815],\n",
              "        [ 1.1151,  0.7132]], grad_fn=<PowBackward1>)"
            ]
          },
          "metadata": {},
          "execution_count": 47
        }
      ]
    },
    {
      "cell_type": "code",
      "source": [],
      "metadata": {
        "id": "ov--RDyRCjQY"
      },
      "execution_count": null,
      "outputs": []
    }
  ]
}